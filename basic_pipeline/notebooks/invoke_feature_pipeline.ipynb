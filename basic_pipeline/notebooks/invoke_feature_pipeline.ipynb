{
 "cells": [
  {
   "cell_type": "code",
   "execution_count": 1,
   "id": "001ef6ad-c924-4a4d-84e3-9effa7c67cde",
   "metadata": {},
   "outputs": [],
   "source": [
    "import features.bad_pipeline as bad_feature_pipeline\n",
    "import features.pipeline as feature_pipeline"
   ]
  },
  {
   "cell_type": "code",
   "execution_count": 2,
   "id": "39906ce4-8715-46dc-9b82-2179fd2b3f3c",
   "metadata": {},
   "outputs": [],
   "source": [
    "email_dict = {\n",
    "    \"recipients\": [\"person@xyz.com\", \"person.last_name@gmail.com\"],\n",
    "    \"email_body\": \"Thanks for the help!  You are the best.\",\n",
    "    \"email_subject\": \"Thanks!\",\n",
    "}"
   ]
  },
  {
   "cell_type": "code",
   "execution_count": 3,
   "id": "6cc13c38-3168-4c17-9b04-e2ab0f27de91",
   "metadata": {},
   "outputs": [
    {
     "name": "stdout",
     "output_type": "stream",
     "text": [
      "In featurize\n"
     ]
    },
    {
     "data": {
      "text/plain": [
       "{'num_recipients': 2,\n",
       " 'body_embedding': [1, 2, 3],\n",
       " 'subject_embedding': [1, 2, 3],\n",
       " 'is_spam': False}"
      ]
     },
     "execution_count": 3,
     "metadata": {},
     "output_type": "execute_result"
    }
   ],
   "source": [
    "bad_feature_pipeline.bad_featurize_email(email_dict)"
   ]
  },
  {
   "cell_type": "code",
   "execution_count": null,
   "id": "0a8e079d-eede-4abd-8802-ed542790dada",
   "metadata": {},
   "outputs": [],
   "source": []
  },
  {
   "cell_type": "code",
   "execution_count": 4,
   "id": "93ca7c24-f14d-4a2f-95b7-c7c711ec07b4",
   "metadata": {},
   "outputs": [
    {
     "data": {
      "text/plain": [
       "{'num_recipients': 2,\n",
       " 'email_body': [1, 2, 3],\n",
       " 'email_subject': [1, 2, 3],\n",
       " 'is_spam': False}"
      ]
     },
     "execution_count": 4,
     "metadata": {},
     "output_type": "execute_result"
    }
   ],
   "source": [
    "feature_pipeline.engine(email_dict)"
   ]
  },
  {
   "cell_type": "code",
   "execution_count": null,
   "id": "4ae64040-55bf-48e2-a9c3-e4193e9247b1",
   "metadata": {},
   "outputs": [],
   "source": []
  }
 ],
 "metadata": {
  "kernelspec": {
   "display_name": "Python 3 (ipykernel)",
   "language": "python",
   "name": "python3"
  },
  "language_info": {
   "codemirror_mode": {
    "name": "ipython",
    "version": 3
   },
   "file_extension": ".py",
   "mimetype": "text/x-python",
   "name": "python",
   "nbconvert_exporter": "python",
   "pygments_lexer": "ipython3",
   "version": "3.11.9"
  }
 },
 "nbformat": 4,
 "nbformat_minor": 5
}
